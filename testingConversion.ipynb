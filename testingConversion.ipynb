{
 "cells": [
  {
   "cell_type": "code",
   "execution_count": 1,
   "metadata": {},
   "outputs": [],
   "source": [
    "import torch\n",
    "from torch.utils.mobile_optimizer import optimize_for_mobile\n",
    "import torchaudio\n",
    "from getmodel import get_model\n"
   ]
  },
  {
   "cell_type": "code",
   "execution_count": 4,
   "metadata": {},
   "outputs": [
    {
     "data": {
      "text/plain": [
       "<All keys matched successfully>"
      ]
     },
     "execution_count": 4,
     "metadata": {},
     "output_type": "execute_result"
    }
   ],
   "source": [
    "model = \"ConvTasNet\"\n",
    "tarFile = \"lr001\"\n",
    "\n",
    "\n",
    "checkpointName = f'/{tarFile}.tar'\n",
    "length = 4\n",
    "\n",
    "device = \"cpu\"\n",
    "\n",
    "# Get the model\n",
    "training_utils_dict = get_model(model)\n",
    "\n",
    "model = training_utils_dict[\"model\"]\n",
    "data_mode = training_utils_dict[\"data_mode\"]\n",
    "\n",
    "checkpoint = torch.load(checkpointName)\n",
    "model.load_state_dict(checkpoint[\"model_state_dict\"])"
   ]
  },
  {
   "cell_type": "code",
   "execution_count": 5,
   "metadata": {},
   "outputs": [],
   "source": [
    "# net = torchaudio.models.ConvTasNet()\n",
    "# net2 = torchaudio.pipelines.CONVTASNET_BASE_LIBRI2MIX.get_model()\n",
    "# net.load_state_dict(torch.load('./best_1.pt',map_location=torch.device('cpu')))\n",
    "\n",
    "scripted_module = torch.jit.script(model)\n",
    "optimized_scripted_module = optimize_for_mobile(scripted_module)\n",
    "optimized_scripted_module._save_for_lite_interpreter(f'./{tarFile}.ptl')"
   ]
  }
 ],
 "metadata": {
  "kernelspec": {
   "display_name": "coinpp-new",
   "language": "python",
   "name": "python3"
  },
  "language_info": {
   "codemirror_mode": {
    "name": "ipython",
    "version": 3
   },
   "file_extension": ".py",
   "mimetype": "text/x-python",
   "name": "python",
   "nbconvert_exporter": "python",
   "pygments_lexer": "ipython3",
   "version": "3.11.5"
  }
 },
 "nbformat": 4,
 "nbformat_minor": 2
}
